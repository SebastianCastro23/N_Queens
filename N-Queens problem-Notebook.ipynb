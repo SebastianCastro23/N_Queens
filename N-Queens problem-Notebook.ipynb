{
 "cells": [
  {
   "cell_type": "markdown",
   "metadata": {},
   "source": [
    "<h1> Problema de las N-reinas: implementaciones y acercamientos a algoritmos orientados a la resolución del problema.</h1>\n",
    "<p><h6 align='center'> Buscamos implementar y contrastar distintos algoritmos que nos permitieran resolver el \n",
    "problema de las N-reinas con las restricciones originales del problema, a su vez indagamos en \n",
    "las distintas tecnicas de solución que se han propuesto hasta el dia de hoy y como muchos han optado\n",
    "por algoritmos que satisfacen este problema viendo la aplicabilidad en distintos campos</h6></p>\n",
    "\n",
    "<p>Los algoritmos implementados en la resolución del problema de las N reinas, fueron los siguientes:</p>\n",
    "<li> Implementación del algoritmo de sosic y jun gu </li>\n",
    "<li> Implementación del algoritmo Hill climbing juntos con tres variaciones en busca del minimo conflicto</li>\n",
    "<li> Implementación del algoritmo backtracking y una variación optimizando con branch and bound</li>\n"
   ]
  },
  {
   "cell_type": "markdown",
   "metadata": {},
   "source": [
    "<h3>Implementación del algoritmo de Sosic y Jun Gu</h3>"
   ]
  },
  {
   "cell_type": "code",
   "execution_count": null,
   "metadata": {},
   "outputs": [],
   "source": [
    "import pandas as pd\n",
    "data = pd.read_csv()\n",
    "data.head()"
   ]
  }
 ],
 "metadata": {
  "kernelspec": {
   "display_name": "Python 3.10.7 64-bit",
   "language": "python",
   "name": "python3"
  },
  "language_info": {
   "codemirror_mode": {
    "name": "ipython",
    "version": 3
   },
   "file_extension": ".py",
   "mimetype": "text/x-python",
   "name": "python",
   "nbconvert_exporter": "python",
   "pygments_lexer": "ipython3",
   "version": "3.10.7"
  },
  "orig_nbformat": 4,
  "vscode": {
   "interpreter": {
    "hash": "aee8b7b246df8f9039afb4144a1f6fd8d2ca17a180786b69acc140d282b71a49"
   }
  }
 },
 "nbformat": 4,
 "nbformat_minor": 2
}
