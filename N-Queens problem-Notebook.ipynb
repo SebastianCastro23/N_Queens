{
 "cells": [
  {
   "cell_type": "markdown",
   "metadata": {},
   "source": [
    "<h1> Problema de las N-reinas: implementaciones y acercamientos a algoritmos orientados a la resolución del problema.</h1>\n",
    "<p><h6 align='center'> Buscamos implementar y contrastar distintos algoritmos que nos permitieran resolver el \n",
    "problema de las N-reinas con las restricciones originales del problema, a su vez indagamos en \n",
    "las distintas tecnicas de solución que se han propuesto hasta el dia de hoy y como muchos han optado\n",
    "por algoritmos que satisfacen este problema viendo la aplicabilidad en problemas actuales</h6></p>"
   ]
  }
 ],
 "metadata": {
  "kernelspec": {
   "display_name": "Python 3.10.7 64-bit",
   "language": "python",
   "name": "python3"
  },
  "language_info": {
   "name": "python",
   "version": "3.10.7"
  },
  "orig_nbformat": 4,
  "vscode": {
   "interpreter": {
    "hash": "aee8b7b246df8f9039afb4144a1f6fd8d2ca17a180786b69acc140d282b71a49"
   }
  }
 },
 "nbformat": 4,
 "nbformat_minor": 2
}
